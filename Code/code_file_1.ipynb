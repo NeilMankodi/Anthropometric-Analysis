{
 "cells": [
  {
   "cell_type": "code",
   "execution_count": 1,
   "id": "1bdd5fd0",
   "metadata": {
    "execution": {
     "iopub.execute_input": "2024-04-21T20:16:08.742447Z",
     "iopub.status.busy": "2024-04-21T20:16:08.741588Z",
     "iopub.status.idle": "2024-04-21T20:16:09.767463Z",
     "shell.execute_reply": "2024-04-21T20:16:09.766149Z"
    },
    "id": "1h697dKHKjTo",
    "papermill": {
     "duration": 1.035616,
     "end_time": "2024-04-21T20:16:09.770645",
     "exception": false,
     "start_time": "2024-04-21T20:16:08.735029",
     "status": "completed"
    },
    "tags": []
   },
   "outputs": [],
   "source": [
    "# all imports\n",
    "\n",
    "import pandas as pd\n",
    "import numpy as np\n",
    "import re"
   ]
  },
  {
   "cell_type": "markdown",
   "id": "0b7e52b7",
   "metadata": {
    "id": "turIO7UFf8gG",
    "papermill": {
     "duration": 0.003379,
     "end_time": "2024-04-21T20:16:09.778264",
     "exception": false,
     "start_time": "2024-04-21T20:16:09.774885",
     "status": "completed"
    },
    "tags": []
   },
   "source": [
    "# Parsing SAS File"
   ]
  },
  {
   "cell_type": "code",
   "execution_count": 2,
   "id": "11ea0b59",
   "metadata": {
    "execution": {
     "iopub.execute_input": "2024-04-21T20:16:09.787453Z",
     "iopub.status.busy": "2024-04-21T20:16:09.786919Z",
     "iopub.status.idle": "2024-04-21T20:16:09.804968Z",
     "shell.execute_reply": "2024-04-21T20:16:09.803728Z"
    },
    "id": "1n1RfVE4H3v2",
    "papermill": {
     "duration": 0.025943,
     "end_time": "2024-04-21T20:16:09.807755",
     "exception": false,
     "start_time": "2024-04-21T20:16:09.781812",
     "status": "completed"
    },
    "tags": []
   },
   "outputs": [],
   "source": [
    "def handle_special_cases(value):\n",
    "    if value.startswith(\"$\"):\n",
    "        return value[1:]\n",
    "    elif value.startswith(\"Z\"):\n",
    "        total_width = int(value[1])\n",
    "        return value[1:]\n",
    "    else:\n",
    "        return value\n",
    "\n",
    "def parse_sas(filepath):\n",
    "    section_pattern = r'^\\s*(\\w+)\\s*$'\n",
    "    variable_metadata = {}\n",
    "\n",
    "    with open(filepath, \"r\") as file:\n",
    "        for _ in range(5):\n",
    "            next(file)\n",
    "\n",
    "        content = file.read()\n",
    "\n",
    "    sections = re.split(r'\\s*;\\s*', content)\n",
    "\n",
    "    for section in sections:\n",
    "        lines = section.strip().split('\\n')\n",
    "        current_section = None\n",
    "\n",
    "        match = re.match(section_pattern, lines[0])\n",
    "        if match:\n",
    "            current_section = match.group(1)\n",
    "\n",
    "        for line in lines[1:]:\n",
    "            line = line.strip()\n",
    "\n",
    "            if not line or line == \"***\":\n",
    "                continue\n",
    "\n",
    "            parts = line.split()\n",
    "            if len(parts) >= 2:\n",
    "                var_name = parts[0]\n",
    "                var_value = \" \".join(parts[1:])  \n",
    "                var_value = handle_special_cases(var_value)  \n",
    "\n",
    "                if var_name not in variable_metadata:\n",
    "                    variable_metadata[var_name] = {}\n",
    "\n",
    "                if current_section == \"LENGTH\":\n",
    "                    variable_metadata[var_name][\"length\"] = var_value\n",
    "                elif current_section == \"FORMAT\":\n",
    "                    variable_metadata[var_name][\"format\"] = var_value\n",
    "                elif current_section == \"INPUT\":\n",
    "                    input_range = parts[-1]  \n",
    "                    if \"-\" in input_range:\n",
    "                        input_start, input_end = map(int, input_range.split(\"-\"))\n",
    "                    else:\n",
    "                        input_start = input_end = int(input_range)\n",
    "\n",
    "                    variable_metadata[var_name][\"input_start\"] = input_start\n",
    "                    variable_metadata[var_name][\"input_end\"] = input_end\n",
    "                elif current_section == \"LABEL\":\n",
    "                    label_value = var_value.split('=')[1].strip().strip('\"')\n",
    "                    variable_metadata[var_name][\"label\"] = label_value\n",
    "\n",
    "    return variable_metadata"
   ]
  },
  {
   "cell_type": "code",
   "execution_count": 3,
   "id": "bee78560",
   "metadata": {
    "execution": {
     "iopub.execute_input": "2024-04-21T20:16:09.817951Z",
     "iopub.status.busy": "2024-04-21T20:16:09.817510Z",
     "iopub.status.idle": "2024-04-21T20:16:09.951836Z",
     "shell.execute_reply": "2024-04-21T20:16:09.950642Z"
    },
    "id": "SFomGuNTIRZb",
    "papermill": {
     "duration": 0.142998,
     "end_time": "2024-04-21T20:16:09.954998",
     "exception": false,
     "start_time": "2024-04-21T20:16:09.812000",
     "status": "completed"
    },
    "tags": []
   },
   "outputs": [],
   "source": [
    "adult_metadata = parse_sas(\"/kaggle/input/nhanes3-raw/adult.sas.txt\")\n",
    "adult_metadata_df = pd.DataFrame.from_dict(adult_metadata, orient='index')\n",
    "\n",
    "youth_metadata = parse_sas(\"/kaggle/input/nhanes3-raw/youth.sas.txt\")\n",
    "youth_metadata_df = pd.DataFrame.from_dict(youth_metadata, orient='index')\n",
    "\n",
    "lab_metadata = parse_sas(\"/kaggle/input/nhanes3-raw/lab.sas.txt\")\n",
    "lab_metadata_df = pd.DataFrame.from_dict(lab_metadata, orient='index')\n",
    "\n",
    "exam_metadata = parse_sas(\"/kaggle/input/nhanes3-raw/exam.sas.txt\")\n",
    "exam_metadata_df = pd.DataFrame.from_dict(exam_metadata, orient='index')"
   ]
  },
  {
   "cell_type": "code",
   "execution_count": 4,
   "id": "300f161d",
   "metadata": {
    "execution": {
     "iopub.execute_input": "2024-04-21T20:16:09.964851Z",
     "iopub.status.busy": "2024-04-21T20:16:09.964400Z",
     "iopub.status.idle": "2024-04-21T20:16:10.001952Z",
     "shell.execute_reply": "2024-04-21T20:16:09.999771Z"
    },
    "id": "BHsiP79HOQBu",
    "papermill": {
     "duration": 0.046259,
     "end_time": "2024-04-21T20:16:10.005445",
     "exception": false,
     "start_time": "2024-04-21T20:16:09.959186",
     "status": "completed"
    },
    "tags": []
   },
   "outputs": [],
   "source": [
    "adult_metadata_df.to_csv('adult_metadata.csv')\n",
    "\n",
    "youth_metadata_df.to_csv('youth_metadata.csv')\n",
    "\n",
    "lab_metadata_df.to_csv('lab_metadata.csv')\n",
    "\n",
    "exam_metadata_df.to_csv('exam_metadata.csv')"
   ]
  },
  {
   "cell_type": "markdown",
   "id": "4dce7a95",
   "metadata": {
    "id": "IQ6OxrhNf_n-",
    "papermill": {
     "duration": 0.003781,
     "end_time": "2024-04-21T20:16:10.013593",
     "exception": false,
     "start_time": "2024-04-21T20:16:10.009812",
     "status": "completed"
    },
    "tags": []
   },
   "source": [
    "# Parsing DAT File"
   ]
  },
  {
   "cell_type": "code",
   "execution_count": 5,
   "id": "22798ef5",
   "metadata": {
    "execution": {
     "iopub.execute_input": "2024-04-21T20:16:10.023566Z",
     "iopub.status.busy": "2024-04-21T20:16:10.023098Z",
     "iopub.status.idle": "2024-04-21T20:16:10.029468Z",
     "shell.execute_reply": "2024-04-21T20:16:10.028348Z"
    },
    "id": "HHS8rbR_HG54",
    "papermill": {
     "duration": 0.014524,
     "end_time": "2024-04-21T20:16:10.032037",
     "exception": false,
     "start_time": "2024-04-21T20:16:10.017513",
     "status": "completed"
    },
    "tags": []
   },
   "outputs": [],
   "source": [
    "def parse_dat(df, filepath):\n",
    "    df['input_start'] = df['input_start'] - 1\n",
    "    df['input_end'] = df['input_end'] - 1\n",
    "    df_data = pd.read_fwf(filepath, header=None, widths=df['input_end'] - df['input_start'] + 1)\n",
    "    df_data.columns = df.index.tolist()\n",
    "    return df_data"
   ]
  },
  {
   "cell_type": "code",
   "execution_count": 6,
   "id": "19bfe8a1",
   "metadata": {
    "execution": {
     "iopub.execute_input": "2024-04-21T20:16:10.042449Z",
     "iopub.status.busy": "2024-04-21T20:16:10.042014Z",
     "iopub.status.idle": "2024-04-21T20:18:29.649022Z",
     "shell.execute_reply": "2024-04-21T20:18:29.647399Z"
    },
    "id": "d4ZfNMSsHfCJ",
    "papermill": {
     "duration": 139.616209,
     "end_time": "2024-04-21T20:18:29.652519",
     "exception": false,
     "start_time": "2024-04-21T20:16:10.036310",
     "status": "completed"
    },
    "tags": []
   },
   "outputs": [],
   "source": [
    "adult_data_df = parse_dat(adult_metadata_df, \"/kaggle/input/nhanes3-raw/adult.dat\")\n",
    "\n",
    "youth_data_df = parse_dat(youth_metadata_df, \"/kaggle/input/nhanes3-raw/youth.dat\")\n",
    "\n",
    "lab_data_df = parse_dat(lab_metadata_df, \"/kaggle/input/nhanes3-raw/lab.dat\")\n",
    "\n",
    "exam_data_df = parse_dat(exam_metadata_df, \"/kaggle/input/nhanes3-raw/exam.dat\")"
   ]
  },
  {
   "cell_type": "code",
   "execution_count": 7,
   "id": "308fe020",
   "metadata": {
    "execution": {
     "iopub.execute_input": "2024-04-21T20:18:29.663948Z",
     "iopub.status.busy": "2024-04-21T20:18:29.663156Z",
     "iopub.status.idle": "2024-04-21T20:20:16.151716Z",
     "shell.execute_reply": "2024-04-21T20:20:16.150142Z"
    },
    "id": "xxo579ixNhhS",
    "papermill": {
     "duration": 106.49781,
     "end_time": "2024-04-21T20:20:16.155102",
     "exception": false,
     "start_time": "2024-04-21T20:18:29.657292",
     "status": "completed"
    },
    "tags": []
   },
   "outputs": [],
   "source": [
    "adult_data_df.to_csv('adult_data.csv')\n",
    "\n",
    "youth_data_df.to_csv('youth_data.csv')\n",
    "\n",
    "lab_data_df.to_csv('lab_data.csv')\n",
    "\n",
    "exam_data_df.to_csv('exam_data.csv')"
   ]
  },
  {
   "cell_type": "code",
   "execution_count": null,
   "id": "85d89636",
   "metadata": {
    "id": "Ti_IGysKQdZK",
    "papermill": {
     "duration": 0.003849,
     "end_time": "2024-04-21T20:20:16.163717",
     "exception": false,
     "start_time": "2024-04-21T20:20:16.159868",
     "status": "completed"
    },
    "tags": []
   },
   "outputs": [],
   "source": []
  }
 ],
 "metadata": {
  "colab": {
   "provenance": []
  },
  "kaggle": {
   "accelerator": "none",
   "dataSources": [
    {
     "datasetId": 4786458,
     "sourceId": 8104447,
     "sourceType": "datasetVersion"
    }
   ],
   "isGpuEnabled": false,
   "isInternetEnabled": true,
   "language": "python",
   "sourceType": "notebook"
  },
  "kernelspec": {
   "display_name": "Python 3",
   "name": "python3"
  },
  "language_info": {
   "codemirror_mode": {
    "name": "ipython",
    "version": 3
   },
   "file_extension": ".py",
   "mimetype": "text/x-python",
   "name": "python",
   "nbconvert_exporter": "python",
   "pygments_lexer": "ipython3",
   "version": "3.10.13"
  },
  "papermill": {
   "default_parameters": {},
   "duration": 251.38125,
   "end_time": "2024-04-21T20:20:16.791373",
   "environment_variables": {},
   "exception": null,
   "input_path": "__notebook__.ipynb",
   "output_path": "__notebook__.ipynb",
   "parameters": {},
   "start_time": "2024-04-21T20:16:05.410123",
   "version": "2.5.0"
  }
 },
 "nbformat": 4,
 "nbformat_minor": 5
}
